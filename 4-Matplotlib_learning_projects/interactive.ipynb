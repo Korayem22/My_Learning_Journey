{
 "cells": [
  {
   "cell_type": "code",
   "execution_count": 1,
   "metadata": {},
   "outputs": [],
   "source": [
    "#%%\n",
    "import matplotlib.pyplot as plt\n",
    "import numpy as np"
   ]
  },
  {
   "cell_type": "code",
   "execution_count": 2,
   "metadata": {},
   "outputs": [],
   "source": [
    "%matplotlib qt"
   ]
  },
  {
   "cell_type": "code",
   "execution_count": 3,
   "metadata": {},
   "outputs": [],
   "source": [
    "def draw_spiral(r,rounds=5,a=0,b=0):\n",
    "    theta = np.linspace(0,rounds*2*np.pi,1000)\n",
    "    r = np.linspace(0,r,1000)\n",
    "    x = r * np.cos(theta) + a\n",
    "    y = r * np.sin(theta) + b\n",
    "    #plt.plot(x,y)\n",
    "    #plt.axis(\"square\")\n",
    "    #plt.grid(True)\n",
    "    #plt.show()\n",
    "    return [x,y]"
   ]
  },
  {
   "cell_type": "code",
   "execution_count": 10,
   "metadata": {},
   "outputs": [],
   "source": [
    "#%%\n",
    "x_y = draw_spiral(5,7)\n",
    "plt.xlim((-5,5))\n",
    "plt.ylim((-5,5))\n",
    "plt.axis(\"square\")\n",
    "line,=plt.plot(0,0)\n",
    "#plt.get(line)"
   ]
  },
  {
   "cell_type": "code",
   "execution_count": 11,
   "metadata": {},
   "outputs": [],
   "source": [
    "x = x_y[0]\n",
    "y = x_y[1]\n",
    "#%%\n",
    "for i in range(1000):\n",
    "    plt.setp(line, xdata = x[:i],ydata=y[:i])\n",
    "    plt.pause(0.005)"
   ]
  },
  {
   "cell_type": "code",
   "execution_count": null,
   "metadata": {},
   "outputs": [],
   "source": []
  }
 ],
 "metadata": {
  "kernelspec": {
   "display_name": "ITI",
   "language": "python",
   "name": "python3"
  },
  "language_info": {
   "codemirror_mode": {
    "name": "ipython",
    "version": 3
   },
   "file_extension": ".py",
   "mimetype": "text/x-python",
   "name": "python",
   "nbconvert_exporter": "python",
   "pygments_lexer": "ipython3",
   "version": "3.11.10"
  }
 },
 "nbformat": 4,
 "nbformat_minor": 2
}
