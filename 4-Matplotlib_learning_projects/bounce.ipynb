{
 "cells": [
  {
   "cell_type": "code",
   "execution_count": null,
   "metadata": {},
   "outputs": [
    {
     "name": "stderr",
     "output_type": "stream",
     "text": [
      "2024-11-28 17:25:09.669 python[24785:1443466] +[IMKClient subclass]: chose IMKClient_Modern\n",
      "2024-11-28 17:25:09.669 python[24785:1443466] +[IMKInputSession subclass]: chose IMKInputSession_Modern\n"
     ]
    },
    {
     "ename": "KeyboardInterrupt",
     "evalue": "",
     "output_type": "error",
     "traceback": [
      "\u001b[0;31m---------------------------------------------------------------------------\u001b[0m",
      "\u001b[0;31mKeyboardInterrupt\u001b[0m                         Traceback (most recent call last)",
      "Cell \u001b[0;32mIn[1], line 50\u001b[0m\n\u001b[1;32m     48\u001b[0m \u001b[38;5;28;01mif\u001b[39;00m y[i]\u001b[38;5;241m!=\u001b[39m\u001b[38;5;241m0\u001b[39m:\n\u001b[1;32m     49\u001b[0m     pause \u001b[38;5;241m=\u001b[39m y[i]\u001b[38;5;241m/\u001b[39m\u001b[38;5;241m1000\u001b[39m\n\u001b[0;32m---> 50\u001b[0m \u001b[43mplt\u001b[49m\u001b[38;5;241;43m.\u001b[39;49m\u001b[43mpause\u001b[49m\u001b[43m(\u001b[49m\u001b[43mpause\u001b[49m\u001b[43m)\u001b[49m\n",
      "File \u001b[0;32m~/anaconda3/envs/ITI/lib/python3.11/site-packages/matplotlib/pyplot.py:758\u001b[0m, in \u001b[0;36mpause\u001b[0;34m(interval)\u001b[0m\n\u001b[1;32m    756\u001b[0m     canvas\u001b[38;5;241m.\u001b[39mstart_event_loop(interval)\n\u001b[1;32m    757\u001b[0m \u001b[38;5;28;01melse\u001b[39;00m:\n\u001b[0;32m--> 758\u001b[0m     time\u001b[38;5;241m.\u001b[39msleep(interval)\n",
      "\u001b[0;31mKeyboardInterrupt\u001b[0m: "
     ]
    }
   ],
   "source": [
    "import matplotlib.pyplot as plt\n",
    "import numpy as np\n",
    "%matplotlib qt\n",
    "\n",
    "# Initial settings\n",
    "plt.subplot(3,1,1)\n",
    "plt.ylim(-0.5, 26)\n",
    "plt.xlim(-1, 1)\n",
    "circle, = plt.plot(0, 25, marker=\"o\", color=\"red\")  # Initial ball plot\n",
    "plt.subplot(3,1,2)\n",
    "plt.xlim(0,20)\n",
    "plt.ylim(0,25)\n",
    "pos=plt.plot(0,25)\n",
    "plt.subplot(3,1,3)\n",
    "plt.xlim(0,20)\n",
    "plt.ylim(-30,30)\n",
    "velo=plt.plot(0,0)\n",
    "g = 9.8  # Gravity\n",
    "y_0 = 25  # Initial height\n",
    "v_0 = 0  # Initial velocity\n",
    "restitution = 0.8  # Coefficient\n",
    "t = np.linspace(0, 60, 5000)  # Time array\n",
    "dt = t[1] - t[0]  # Time step\n",
    "y = np.zeros_like(t)  # Array to store y positions\n",
    "\n",
    "# Initial conditions\n",
    "y[0] = y_0\n",
    "v = v_0\n",
    "down = True  # Indicates the ball is initially falling\n",
    "velocity=[0]\n",
    "# Simulation loop\n",
    "for i in range(1, len(t)):\n",
    "    # Update position and velocity\n",
    "    v = v - g * dt  # Velocity decreases due to gravity\n",
    "    y[i] = y[i-1] + v * dt  # Update position based on velocity\n",
    "    if down and y[i]<= 0:\n",
    "        y[i] = 0  # Correct position to ground level\n",
    "        v = -v * restitution  # Reverse velocity with damping\n",
    "        down = False  # Change direction\n",
    "    elif v <= 0:  # Ball reaches the top\n",
    "        down = True  # Change direction to falling\n",
    "    velocity.append(v)\n",
    "# Update plot\n",
    "for i in range(1, len(t)):\n",
    "    plt.setp(circle, xdata=[0], ydata=[y[i]])\n",
    "    plt.setp(pos, xdata=t[:i], ydata=y[:i])\n",
    "    plt.setp(velo, xdata=t[:i], ydata=velocity[:i])\n",
    "    if y[i]!=0:\n",
    "        pause = y[i]/1000\n",
    "    plt.pause(pause)\n"
   ]
  },
  {
   "cell_type": "code",
   "execution_count": null,
   "metadata": {},
   "outputs": [],
   "source": []
  }
 ],
 "metadata": {
  "kernelspec": {
   "display_name": "ITI",
   "language": "python",
   "name": "python3"
  },
  "language_info": {
   "codemirror_mode": {
    "name": "ipython",
    "version": 3
   },
   "file_extension": ".py",
   "mimetype": "text/x-python",
   "name": "python",
   "nbconvert_exporter": "python",
   "pygments_lexer": "ipython3",
   "version": "3.11.10"
  }
 },
 "nbformat": 4,
 "nbformat_minor": 2
}
