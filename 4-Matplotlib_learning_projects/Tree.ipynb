{
 "cells": [
  {
   "cell_type": "code",
   "execution_count": 2,
   "metadata": {},
   "outputs": [],
   "source": [
    "import matplotlib.pyplot as plt\n",
    "import numpy as np"
   ]
  },
  {
   "cell_type": "code",
   "execution_count": 3,
   "metadata": {},
   "outputs": [],
   "source": [
    "%matplotlib qt\n",
    "def draw_spiral(r,rounds=5,a=0,b=0):\n",
    "    theta = np.linspace(0,rounds*2*np.pi,1000)\n",
    "    r = np.linspace(r,0,1000)\n",
    "    x = r * np.cos(theta) + a\n",
    "    y = r * np.sin(theta) + b\n",
    "    #plt.plot(x,y)\n",
    "    #plt.axis(\"square\")\n",
    "    #plt.grid(True)\n",
    "    #plt.show()\n",
    "    return [x,y]"
   ]
  },
  {
   "cell_type": "code",
   "execution_count": 4,
   "metadata": {},
   "outputs": [
    {
     "name": "stdout",
     "output_type": "stream",
     "text": [
      "(60, 4)\n"
     ]
    },
    {
     "ename": "KeyboardInterrupt",
     "evalue": "",
     "output_type": "error",
     "traceback": [
      "\u001b[1;31m---------------------------------------------------------------------------\u001b[0m",
      "\u001b[1;31mKeyboardInterrupt\u001b[0m                         Traceback (most recent call last)",
      "Cell \u001b[1;32mIn[4], line 24\u001b[0m\n\u001b[0;32m     22\u001b[0m     colors \u001b[38;5;241m=\u001b[39m np\u001b[38;5;241m.\u001b[39mflipud(colors)\n\u001b[0;32m     23\u001b[0m     plt\u001b[38;5;241m.\u001b[39msetp(points, facecolors\u001b[38;5;241m=\u001b[39mcolors)\n\u001b[1;32m---> 24\u001b[0m     \u001b[43mplt\u001b[49m\u001b[38;5;241;43m.\u001b[39;49m\u001b[43mpause\u001b[49m\u001b[43m(\u001b[49m\u001b[38;5;241;43m1\u001b[39;49m\u001b[43m)\u001b[49m\n\u001b[0;32m     25\u001b[0m \u001b[38;5;66;03m# while True:\u001b[39;00m\n\u001b[0;32m     26\u001b[0m \u001b[38;5;66;03m#     ax.scatter(x_points,y_points,z_points,c=c_list)\u001b[39;00m\n\u001b[0;32m     27\u001b[0m \u001b[38;5;66;03m#     c_list = c_list.reverse()\u001b[39;00m\n\u001b[0;32m     28\u001b[0m \u001b[38;5;66;03m#     x.scatter(x_points,y_points,z_points,c=c_list)\u001b[39;00m\n",
      "File \u001b[1;32mc:\\Users\\Korayem\\anaconda3\\envs\\ITI\\Lib\\site-packages\\matplotlib\\pyplot.py:758\u001b[0m, in \u001b[0;36mpause\u001b[1;34m(interval)\u001b[0m\n\u001b[0;32m    756\u001b[0m     canvas\u001b[38;5;241m.\u001b[39mstart_event_loop(interval)\n\u001b[0;32m    757\u001b[0m \u001b[38;5;28;01melse\u001b[39;00m:\n\u001b[1;32m--> 758\u001b[0m     \u001b[43mtime\u001b[49m\u001b[38;5;241;43m.\u001b[39;49m\u001b[43msleep\u001b[49m\u001b[43m(\u001b[49m\u001b[43minterval\u001b[49m\u001b[43m)\u001b[49m\n",
      "\u001b[1;31mKeyboardInterrupt\u001b[0m: "
     ]
    }
   ],
   "source": [
    "x_y = draw_spiral(10,10)\n",
    "x=x_y[0]\n",
    "y=x_y[1]\n",
    "colors = ('r', 'g', 'b', 'yellow','pink','cyan')\n",
    "z=np.linspace(0,10,1000)\n",
    "ax = plt.axes(projection =\"3d\")\n",
    "ax.plot(x,y,z,color=\"green\")\n",
    "ax.plot(0,0,10,\"*\",markersize=20,color=\"gold\")\n",
    "index = np.random.choice(x.shape[0], 60, replace=False)  \n",
    "x_points = x[index]\n",
    "y_points = y[index]\n",
    "z_points = z[index]\n",
    "c_list=[]\n",
    "for c in colors:\n",
    "    c_list.extend([c] * 10)\n",
    "points = ax.scatter(x_points,y_points,z_points,c=c_list)\n",
    "colors=plt.getp(points,\"fc\")\n",
    "colors = np.concatenate((colors,colors[0:1]))\n",
    "print(colors.shape)\n",
    "while True:\n",
    "    # Flip the colors and update scatter points\n",
    "    colors = np.flipud(colors)\n",
    "    plt.setp(points, facecolors=colors)\n",
    "    plt.pause(1)\n",
    "# while True:\n",
    "#     ax.scatter(x_points,y_points,z_points,c=c_list)\n",
    "#     c_list = c_list.reverse()\n",
    "#     x.scatter(x_points,y_points,z_points,c=c_list)"
   ]
  },
  {
   "cell_type": "code",
   "execution_count": null,
   "metadata": {},
   "outputs": [],
   "source": []
  }
 ],
 "metadata": {
  "kernelspec": {
   "display_name": "ITI",
   "language": "python",
   "name": "python3"
  },
  "language_info": {
   "codemirror_mode": {
    "name": "ipython",
    "version": 3
   },
   "file_extension": ".py",
   "mimetype": "text/x-python",
   "name": "python",
   "nbconvert_exporter": "python",
   "pygments_lexer": "ipython3",
   "version": "3.12.7"
  }
 },
 "nbformat": 4,
 "nbformat_minor": 2
}
